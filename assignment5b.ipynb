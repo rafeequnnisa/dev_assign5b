{
 "cells": [
  {
   "cell_type": "code",
   "execution_count": 11,
   "id": "4d687614",
   "metadata": {},
   "outputs": [
    {
     "name": "stdout",
     "output_type": "stream",
     "text": [
      "teen_Age 20\n"
     ]
    }
   ],
   "source": [
    "my_Age=20\n",
    "if my_Age > 18 :\n",
    "    print(\"teen_Age\",my_Age)\n",
    "   "
   ]
  },
  {
   "cell_type": "code",
   "execution_count": 10,
   "id": "a750eee8",
   "metadata": {},
   "outputs": [
    {
     "name": "stdout",
     "output_type": "stream",
     "text": [
      "younge_age 30\n"
     ]
    }
   ],
   "source": [
    "my_age=30\n",
    "if my_age > 25 :\n",
    "    print(\"younge_age\",my_age)"
   ]
  },
  {
   "cell_type": "code",
   "execution_count": 3,
   "id": "e2f495b2",
   "metadata": {},
   "outputs": [
    {
     "name": "stdout",
     "output_type": "stream",
     "text": [
      "teen_age 10\n"
     ]
    }
   ],
   "source": [
    "my_age=10\n",
    "if my_age > 5 :\n",
    "    print(\"teen_age\",my_age)"
   ]
  },
  {
   "cell_type": "code",
   "execution_count": 14,
   "id": "5bc6e132",
   "metadata": {},
   "outputs": [
    {
     "name": "stdout",
     "output_type": "stream",
     "text": [
      "younge_age 40\n"
     ]
    }
   ],
   "source": [
    "my_age=40\n",
    "if my_age > 39 :\n",
    "    print(\"younge_age\",my_age)"
   ]
  },
  {
   "cell_type": "code",
   "execution_count": 17,
   "id": "d2b76309",
   "metadata": {},
   "outputs": [
    {
     "name": "stdout",
     "output_type": "stream",
     "text": [
      "weekday\n"
     ]
    }
   ],
   "source": [
    "weekday=\"monday\"\n",
    "\n",
    "if weekday==\"monday\":\n",
    "    print(\"weekday\")\n",
    "elif weekday==\"tuesday\":\n",
    "    print(\"weekday\")\n",
    "elif weekday==\"wednesday\":\n",
    "    print(\"weekday\")    \n",
    "elif weekday==\"thursday\":\n",
    "    print(\"weekday\")    \n",
    "elif weekday==\"friday\":\n",
    "    print(\"weekday\")\n",
    "else:\n",
    "    print(\"weekend\")"
   ]
  },
  {
   "cell_type": "code",
   "execution_count": 19,
   "id": "3d4f81bb",
   "metadata": {},
   "outputs": [
    {
     "name": "stdout",
     "output_type": "stream",
     "text": [
      "i lost\n"
     ]
    }
   ],
   "source": [
    "income=10\n",
    "if income>50 :\n",
    "    print(\"i am profitable\")\n",
    "else:\n",
    "    print(\"i lost\")\n",
    "    "
   ]
  },
  {
   "cell_type": "code",
   "execution_count": 21,
   "id": "f314cdcf",
   "metadata": {},
   "outputs": [
    {
     "name": "stdout",
     "output_type": "stream",
     "text": [
      "i am younger\n"
     ]
    }
   ],
   "source": [
    "age=20\n",
    "if age>28 :\n",
    "    print(\"i am elder\")\n",
    "else:\n",
    "      print(\"i am younger\")    \n",
    "    "
   ]
  },
  {
   "cell_type": "code",
   "execution_count": 23,
   "id": "e659bcfa",
   "metadata": {},
   "outputs": [
    {
     "name": "stdout",
     "output_type": "stream",
     "text": [
      "20% discount\n"
     ]
    }
   ],
   "source": [
    "purchase_amount=100\n",
    "if purchase_amount>100:\n",
    "    print(\"30% discount\")\n",
    "elif purchase_amount>50:\n",
    "    print(\"20% discount\")\n",
    "else:\n",
    "    print(\"20% discount\")\n"
   ]
  },
  {
   "cell_type": "code",
   "execution_count": 8,
   "id": "8ac69da5",
   "metadata": {},
   "outputs": [
    {
     "name": "stdout",
     "output_type": "stream",
     "text": [
      "140\n",
      "balcony\n",
      "50\n",
      "chair\n",
      "100\n",
      "bench\n"
     ]
    }
   ],
   "source": [
    "movie_theater_price=(140,50,100)\n",
    "for P in movie_theater_price:\n",
    "    print(P)\n",
    "    if P==140:\n",
    "        print(\"balcony\")\n",
    "    elif P==50:\n",
    "            print(\"chair\")\n",
    "    else:\n",
    "                print(\"bench\")\n",
    "    \n",
    "\n",
    "    "
   ]
  },
  {
   "cell_type": "code",
   "execution_count": 7,
   "id": "217f4577",
   "metadata": {},
   "outputs": [
    {
     "name": "stdout",
     "output_type": "stream",
     "text": [
      "four wheeler\n"
     ]
    }
   ],
   "source": [
    "vehicle=\"car\"\n",
    "if vehicle==\"bike\" or vehicle==\"scooty\":\n",
    "        print(\"two wheeler\")\n",
    "elif vehicle==\"car\" or vehicle==\"lorry\" or vechile==\"van\" or vecicle==\"jeep\":\n",
    "        print(\"four wheeler\")\n",
    "\n",
    "\n",
    "\n"
   ]
  },
  {
   "cell_type": "code",
   "execution_count": null,
   "id": "8260fa9d",
   "metadata": {},
   "outputs": [],
   "source": []
  }
 ],
 "metadata": {
  "kernelspec": {
   "display_name": "Python 3 (ipykernel)",
   "language": "python",
   "name": "python3"
  },
  "language_info": {
   "codemirror_mode": {
    "name": "ipython",
    "version": 3
   },
   "file_extension": ".py",
   "mimetype": "text/x-python",
   "name": "python",
   "nbconvert_exporter": "python",
   "pygments_lexer": "ipython3",
   "version": "3.10.9"
  }
 },
 "nbformat": 4,
 "nbformat_minor": 5
}
